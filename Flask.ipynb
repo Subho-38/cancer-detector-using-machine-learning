{
 "cells": [
  {
   "cell_type": "code",
   "execution_count": 1,
   "metadata": {},
   "outputs": [],
   "source": [
    "import numpy as np\n",
    "from flask import Flask,abort,jsonify,request\n",
    "import pickle"
   ]
  },
  {
   "cell_type": "code",
   "execution_count": null,
   "metadata": {},
   "outputs": [
    {
     "name": "stdout",
     "output_type": "stream",
     "text": [
      " * Serving Flask app \"__main__\" (lazy loading)\n",
      " * Environment: production\n",
      "   WARNING: Do not use the development server in a production environment.\n",
      "   Use a production WSGI server instead.\n",
      " * Debug mode: off\n"
     ]
    },
    {
     "name": "stderr",
     "output_type": "stream",
     "text": [
      " * Running on http://127.0.0.1:9000/ (Press CTRL+C to quit)\n"
     ]
    }
   ],
   "source": [
    "#Use conda install Flask for this to work\n",
    "random_forest=pickle.load(open(\"cancer.pkl\",\"rb\"))\n",
    "app=Flask(__name__)\n",
    "@app.route('/api',methods=['POST'])\n",
    "def make_predict():\n",
    "    data=request.get_json(force=True)\n",
    "    predict_request=[data['mr'],data['mt'],data['mp'],data['ma'],data['ms'],data['mc'],data['mcon'],data['mcp'],data['msym'],data['mfd'],data['re'],data['te'],data['pe'],\n",
    "                     data['ae'],data['se'],data['ce'],data['cone'],data['cpe'],data['syme'],data['fde'],data['wr'],data['wt'],data['wp'],data['wa'],data['ws'],data['wc'],\n",
    "                     data['wcon'],data['wconp'],data['wsym'],data['wfd']\n",
    "                    ]\n",
    "    predict_request=np.array(predict_request)\n",
    "    y_hat=random_forest.predict(predict_request)\n",
    "    output=[y_hat[0]]\n",
    "    return jsonify(results=output)\n",
    "@app.errorhandler(404)\n",
    "def page_not_found(e):\n",
    "    return(\"gfdsgsgsgsgs\")\n",
    "        \n",
    "if __name__=='__main__':\n",
    "    app.run(port=9000,debug=False)"
   ]
  },
  {
   "cell_type": "code",
   "execution_count": null,
   "metadata": {},
   "outputs": [],
   "source": []
  }
 ],
 "metadata": {
  "kernelspec": {
   "display_name": "Python 3",
   "language": "python",
   "name": "python3"
  },
  "language_info": {
   "codemirror_mode": {
    "name": "ipython",
    "version": 3
   },
   "file_extension": ".py",
   "mimetype": "text/x-python",
   "name": "python",
   "nbconvert_exporter": "python",
   "pygments_lexer": "ipython3",
   "version": "3.6.5"
  }
 },
 "nbformat": 4,
 "nbformat_minor": 2
}
